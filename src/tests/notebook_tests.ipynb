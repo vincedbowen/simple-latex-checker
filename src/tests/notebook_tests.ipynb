{
 "cells": [
  {
   "cell_type": "code",
   "execution_count": 2,
   "id": "1d66fa5c-b692-4130-9a33-ab41399e92c5",
   "metadata": {},
   "outputs": [
    {
     "ename": "ModuleNotFoundError",
     "evalue": "No module named 'simple_latex_checker'",
     "output_type": "error",
     "traceback": [
      "\u001b[0;31m---------------------------------------------------------------------------\u001b[0m",
      "\u001b[0;31mModuleNotFoundError\u001b[0m                       Traceback (most recent call last)",
      "Input \u001b[0;32mIn [2]\u001b[0m, in \u001b[0;36m<cell line: 1>\u001b[0;34m()\u001b[0m\n\u001b[0;32m----> 1\u001b[0m \u001b[38;5;28;01mimport\u001b[39;00m \u001b[38;5;21;01msimple_latex_checker\u001b[39;00m \u001b[38;5;28;01mas\u001b[39;00m \u001b[38;5;21;01mslc\u001b[39;00m\n",
      "\u001b[0;31mModuleNotFoundError\u001b[0m: No module named 'simple_latex_checker'"
     ]
    }
   ],
   "source": [
    "import simple_latex_checker as slc"
   ]
  },
  {
   "cell_type": "markdown",
   "id": "9a296eb0-9799-46bb-bfe2-b53d566a49f8",
   "metadata": {},
   "source": [
    "This is markdown, but it doesn't have any latex"
   ]
  },
  {
   "cell_type": "code",
   "execution_count": 2,
   "id": "d80cc31e-9e22-4e6b-9b1d-1aee12ee4a18",
   "metadata": {},
   "outputs": [
    {
     "data": {
      "text/plain": [
       "1"
      ]
     },
     "execution_count": 2,
     "metadata": {},
     "output_type": "execute_result"
    }
   ],
   "source": [
    "#This is code and nothing should happen\n",
    "def addOne(input):\n",
    "    return input + 1\n",
    "addOne(0)"
   ]
  },
  {
   "cell_type": "markdown",
   "id": "ef7342ef-5e9d-4bca-b300-1adce65dec79",
   "metadata": {},
   "source": [
    "This has in-line latex, but it is ok! $1 + 1 = 2$"
   ]
  },
  {
   "cell_type": "markdown",
   "id": "d45ac492-1cc8-4fb2-ab51-084bf1670ba9",
   "metadata": {},
   "source": [
    "This has a simple, but bad in-line latex: $ 1+1=2$"
   ]
  },
  {
   "cell_type": "markdown",
   "id": "44d2084f-54bf-4477-88cb-db689b120c03",
   "metadata": {},
   "source": [
    "This is also simple, but has a space at the end of math mode: $1+1=2 $"
   ]
  },
  {
   "cell_type": "markdown",
   "id": "ad5643a1-cd0d-4256-8c07-61899f67d0f1",
   "metadata": {},
   "source": [
    "This in-line latex has a space at both ends...$ 1+1=2 $"
   ]
  },
  {
   "cell_type": "markdown",
   "id": "9e92f749-41ae-4138-b832-b805f2a2161d",
   "metadata": {},
   "source": [
    "There are two spaces at the beginning here $ 3 + 1 = 4$\n",
    "\n",
    "There are three spaces at the end here $1+4= 5   $"
   ]
  },
  {
   "cell_type": "markdown",
   "id": "6965fe0e-438f-4893-ad98-b6c319bc44c2",
   "metadata": {},
   "source": [
    "This in-line latex escapes a dollar sign and has a space in the front $ \\$30 + \\$40 = \\$70$ \n",
    "\n",
    "This in-line latex escapes a dollar sign and has a space in the back $\\$45 + \\$45 = \\$90 $\n",
    "\n",
    "This in-line latex escapes a dollar sign and has two spaces $ \\$35 + \\$50 = \\$85 $"
   ]
  },
  {
   "cell_type": "markdown",
   "id": "a9fe2595-05a8-4f31-934b-7242bad53a8f",
   "metadata": {},
   "source": [
    "Let's do a complicated latex expression that is ok, $E = \\sqrt{\\frac{a^2 + b^2}{c^2}} \\cdot \\left(\\frac{\\int_{0}^{\\pi} \\sin(x) \\, dx}{\\sum_{i=1}^{n} i^2}\\right) \\text{ where } \\alpha = \\frac{\\beta \\pm \\sqrt{\\beta^2 - 4ac}}{2a}$\n",
    "\n",
    "Now make it \"bad\" $E = \\sqrt{\\frac{a^2 + b^2}{c^2}} \\cdot \\left(\\frac{\\int_{0}^{\\pi} \\sin(x) \\, dx}{\\sum_{i=1}^{n} i^2}\\right) \\text{ where } \\alpha = \\frac{\\beta \\pm \\sqrt{\\beta^2 - 4ac}}{2a} $\n",
    "\n"
   ]
  },
  {
   "cell_type": "markdown",
   "id": "c67f1f74-735a-4063-8743-0bb466a68247",
   "metadata": {},
   "source": [
    "We can make sure display mode still works,\n",
    "$$\n",
    "F(x) = \\int_{-\\infty}^{\\infty} e^{-t^2} \\, dt \\cdot \\sum_{n=0}^{\\infty} \\frac{x^n}{n!} \\cdot \\left[\\cos\\left(\\frac{\\pi}{4}\\right) + i \\sin\\left(\\frac{\\pi}{4}\\right)\\right] \\text{ and } \\lambda = \\frac{\\hbar \\omega}{k_B T} \\text{ where } k_B \\text{ is the Boltzmann constant}\n",
    "$$"
   ]
  },
  {
   "cell_type": "markdown",
   "id": "4e4d6f8b-3606-4706-9368-c039c509607c",
   "metadata": {},
   "source": [
    "And display mode with in-line errors and in-line none errors:\n",
    "\n",
    "$$\n",
    "F(x) = \\int_{-\\infty}^{\\infty} e^{-t^2} \\, dt \\cdot \\sum_{n=0}^{\\infty} \\frac{x^n}{n!} \\cdot \\left[\\cos\\left(\\frac{\\pi}{4}\\right) + i \\sin\\left(\\frac{\\pi}{4}\\right)\\right] \\text{ and } \\lambda = \\frac{\\hbar \\omega}{k_B T} \\text{ where } k_B \\text{ is the Boltzmann constant}\n",
    "$$\n",
    "\n",
    "No error escape dollar sign: $\\$30$\n",
    "\n",
    "Error escape dollar sign: $ \\$40$\n",
    "\n",
    "Error on both sides: $ 4 \\cdot 100 \\neq 500 $"
   ]
  },
  {
   "cell_type": "code",
   "execution_count": 1,
   "id": "957ebc25-d9ba-43ab-bbbd-95a7bea0a5b1",
   "metadata": {},
   "outputs": [
    {
     "ename": "NameError",
     "evalue": "name 'slc' is not defined",
     "output_type": "error",
     "traceback": [
      "\u001b[0;31m---------------------------------------------------------------------------\u001b[0m",
      "\u001b[0;31mNameError\u001b[0m                                 Traceback (most recent call last)",
      "Input \u001b[0;32mIn [1]\u001b[0m, in \u001b[0;36m<cell line: 1>\u001b[0;34m()\u001b[0m\n\u001b[0;32m----> 1\u001b[0m \u001b[43mslc\u001b[49m\u001b[38;5;241m.\u001b[39mrun_check(\u001b[38;5;124m\"\u001b[39m\u001b[38;5;124mnotebook_tests.ipynb\u001b[39m\u001b[38;5;124m\"\u001b[39m)\n",
      "\u001b[0;31mNameError\u001b[0m: name 'slc' is not defined"
     ]
    }
   ],
   "source": [
    "slc.run_check(\"notebook_tests.ipynb\")"
   ]
  },
  {
   "cell_type": "code",
   "execution_count": null,
   "id": "0bff6b38-1c2f-45f7-ab42-2b0e4895f1bd",
   "metadata": {},
   "outputs": [],
   "source": []
  }
 ],
 "metadata": {
  "kernelspec": {
   "display_name": "Python 3 (ipykernel)",
   "language": "python",
   "name": "python3"
  },
  "language_info": {
   "codemirror_mode": {
    "name": "ipython",
    "version": 3
   },
   "file_extension": ".py",
   "mimetype": "text/x-python",
   "name": "python",
   "nbconvert_exporter": "python",
   "pygments_lexer": "ipython3",
   "version": "3.10.13"
  }
 },
 "nbformat": 4,
 "nbformat_minor": 5
}
