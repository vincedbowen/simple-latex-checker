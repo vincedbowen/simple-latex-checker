{
 "cells": [
  {
   "cell_type": "code",
   "execution_count": 1,
   "id": "1d66fa5c-b692-4130-9a33-ab41399e92c5",
   "metadata": {},
   "outputs": [],
   "source": [
    "import nbformat\n",
    "import re\n",
    "\n",
    "\n",
    "def run_check(notebook_path):\n",
    "    # Load current notebook\n",
    "    with open(notebook_path, 'r', encoding='utf-8') as f:\n",
    "        notebook = nbformat.read(f, as_version=4)\n",
    "\n",
    "    # Access raw content from Markdown cells\n",
    "    raw_markdown_cells = list()\n",
    "    for cell_num, cell in enumerate(notebook.cells, 1):\n",
    "        if cell.cell_type == 'markdown':\n",
    "            raw_markdown_cells.append((cell.source, cell_num))\n",
    "\n",
    "    if raw_markdown_cells:\n",
    "        one_time_warning = False\n",
    "        for cell_meta in raw_markdown_cells:\n",
    "            cell, cell_num = cell_meta\n",
    "            latex_only_arr = find_latex(cell)\n",
    "            if not one_time_warning:\n",
    "                one_time_warning = latex_warning(latex_only_arr, cell_num)\n",
    "            else:\n",
    "                latex_warning(latex_only_arr, cell_num)\n",
    "        if one_time_warning:\n",
    "            print(\"\\n\\nLatex expression's must have no spaces after '\\$' when entering math mode, and before '\\$' when exiting.\\nPlease fix these errors before exporting.\")\n",
    "    else:\n",
    "        print(\"No Markdown cells to check!\")\n",
    "\n",
    "def find_latex(markdown):\n",
    "    \"\"\"Uses Regex Pattern matching to find all instances of Latex math mode in a markdown cell and adds\n",
    "    to a list\n",
    "\n",
    "    Args:\n",
    "        markdown (string): string containing the raw markdown of a cell\n",
    "\n",
    "    Returns:\n",
    "        List: list containing all the markdown instances in a latex cell\n",
    "    \"\"\"\n",
    "    latex_finder = r\"\\$(.*?(?:\\\\\\$[^$]*?)*)\\$\"\n",
    "    latex_array = re.findall(latex_finder, markdown)\n",
    "    return latex_array\n",
    "\n",
    "def latex_warning(latex_array, cell):\n",
    "    \"\"\"prints a warning when errors are found in the latex cell. These warnings are only space's in the\n",
    "    incorrect location in math mode for now. \n",
    "\n",
    "    Args:\n",
    "        latex_array (List): List containing all the latex expressions for a cell \n",
    "        cell (Integer): the number of the cell containing the error \n",
    "    \"\"\"\n",
    "    for expr in latex_array:\n",
    "        if expr.startswith(\" \") or expr.endswith(\" \"):\n",
    "            print(f\"Error found in\\033[31m cell {cell}\\033[0m. Bad expression: {expr}\")\n",
    "            return True\n",
    "\n",
    "        \n",
    "    "
   ]
  },
  {
   "cell_type": "markdown",
   "id": "9a296eb0-9799-46bb-bfe2-b53d566a49f8",
   "metadata": {},
   "source": [
    "This is markdown, but it doesn't have any latex"
   ]
  },
  {
   "cell_type": "code",
   "execution_count": 2,
   "id": "d80cc31e-9e22-4e6b-9b1d-1aee12ee4a18",
   "metadata": {},
   "outputs": [
    {
     "data": {
      "text/plain": [
       "1"
      ]
     },
     "execution_count": 2,
     "metadata": {},
     "output_type": "execute_result"
    }
   ],
   "source": [
    "#This is code and nothing should happen\n",
    "def addOne(input):\n",
    "    return input + 1\n",
    "addOne(0)"
   ]
  },
  {
   "cell_type": "markdown",
   "id": "ef7342ef-5e9d-4bca-b300-1adce65dec79",
   "metadata": {},
   "source": [
    "This has in-line latex, but it is ok! $1 + 1 = 2$"
   ]
  },
  {
   "cell_type": "markdown",
   "id": "d45ac492-1cc8-4fb2-ab51-084bf1670ba9",
   "metadata": {},
   "source": [
    "This has a simple, but bad in-line latex: $ 1+1=2$"
   ]
  },
  {
   "cell_type": "markdown",
   "id": "44d2084f-54bf-4477-88cb-db689b120c03",
   "metadata": {},
   "source": [
    "This is also simple, but has a space at the end of math mode: $1+1=2 $"
   ]
  },
  {
   "cell_type": "markdown",
   "id": "ad5643a1-cd0d-4256-8c07-61899f67d0f1",
   "metadata": {},
   "source": [
    "This in-line latex has a space at both ends...$ 1+1=2 $"
   ]
  },
  {
   "cell_type": "markdown",
   "id": "9e92f749-41ae-4138-b832-b805f2a2161d",
   "metadata": {},
   "source": [
    "There are two spaces at the beginning here $ 3 + 1 = 4$\n",
    "\n",
    "There are three spaces at the end here $1+4= 5   $"
   ]
  },
  {
   "cell_type": "markdown",
   "id": "6965fe0e-438f-4893-ad98-b6c319bc44c2",
   "metadata": {},
   "source": [
    "This in-line latex escapes a dollar sign and has a space in the front $ \\$30 + \\$40 = \\$70$ \n",
    "\n",
    "This in-line latex escapes a dollar sign and has a space in the back $\\$30 + \\$40 = \\$70 $\n",
    "\n",
    "This in-line latex escapes a dollar sign and has two spaces $ \\$30 + \\$40 = \\$70 $"
   ]
  },
  {
   "cell_type": "markdown",
   "id": "a9fe2595-05a8-4f31-934b-7242bad53a8f",
   "metadata": {},
   "source": [
    "Let's do a complicated latex expression that is ok, $E = \\sqrt{\\frac{a^2 + b^2}{c^2}} \\cdot \\left(\\frac{\\int_{0}^{\\pi} \\sin(x) \\, dx}{\\sum_{i=1}^{n} i^2}\\right) \\text{ where } \\alpha = \\frac{\\beta \\pm \\sqrt{\\beta^2 - 4ac}}{2a}$\n",
    "\n",
    "Now make it \"bad\" $E = \\sqrt{\\frac{a^2 + b^2}{c^2}} \\cdot \\left(\\frac{\\int_{0}^{\\pi} \\sin(x) \\, dx}{\\sum_{i=1}^{n} i^2}\\right) \\text{ where } \\alpha = \\frac{\\beta \\pm \\sqrt{\\beta^2 - 4ac}}{2a} $\n",
    "\n"
   ]
  },
  {
   "cell_type": "markdown",
   "id": "c67f1f74-735a-4063-8743-0bb466a68247",
   "metadata": {},
   "source": [
    "We can make sure display mode still works,\n",
    "$$\n",
    "F(x) = \\int_{-\\infty}^{\\infty} e^{-t^2} \\, dt \\cdot \\sum_{n=0}^{\\infty} \\frac{x^n}{n!} \\cdot \\left[\\cos\\left(\\frac{\\pi}{4}\\right) + i \\sin\\left(\\frac{\\pi}{4}\\right)\\right] \\text{ and } \\lambda = \\frac{\\hbar \\omega}{k_B T} \\text{ where } k_B \\text{ is the Boltzmann constant}\n",
    "$$"
   ]
  },
  {
   "cell_type": "markdown",
   "id": "4e4d6f8b-3606-4706-9368-c039c509607c",
   "metadata": {},
   "source": [
    "And display mode with in-line errors and in-line none errors:\n",
    "\n",
    "$$\n",
    "F(x) = \\int_{-\\infty}^{\\infty} e^{-t^2} \\, dt \\cdot \\sum_{n=0}^{\\infty} \\frac{x^n}{n!} \\cdot \\left[\\cos\\left(\\frac{\\pi}{4}\\right) + i \\sin\\left(\\frac{\\pi}{4}\\right)\\right] \\text{ and } \\lambda = \\frac{\\hbar \\omega}{k_B T} \\text{ where } k_B \\text{ is the Boltzmann constant}\n",
    "$$\n",
    "\n",
    "No error escape dollar sign: $\\$30$\n",
    "\n",
    "Error escape dollar sign: $ \\$40$\n",
    "\n",
    "Error on both sides: $ 4 \\cdot 100 \\neq 500 $"
   ]
  },
  {
   "cell_type": "code",
   "execution_count": 3,
   "id": "957ebc25-d9ba-43ab-bbbd-95a7bea0a5b1",
   "metadata": {},
   "outputs": [
    {
     "name": "stdout",
     "output_type": "stream",
     "text": [
      "Error found in\u001b[31m cell 5\u001b[0m. Bad expression:  1+1=2\n",
      "Error found in\u001b[31m cell 6\u001b[0m. Bad expression: 1+1=2 \n",
      "Error found in\u001b[31m cell 7\u001b[0m. Bad expression:  1+1=2 \n",
      "Error found in\u001b[31m cell 8\u001b[0m. Bad expression:  3 + 1 = 4\n",
      "Error found in\u001b[31m cell 9\u001b[0m. Bad expression:  \\$30 + \\$40 = \\$70\n",
      "Error found in\u001b[31m cell 10\u001b[0m. Bad expression: E = \\sqrt{\\frac{a^2 + b^2}{c^2}} \\cdot \\left(\\frac{\\int_{0}^{\\pi} \\sin(x) \\, dx}{\\sum_{i=1}^{n} i^2}\\right) \\text{ where } \\alpha = \\frac{\\beta \\pm \\sqrt{\\beta^2 - 4ac}}{2a} \n",
      "Error found in\u001b[31m cell 12\u001b[0m. Bad expression:  \\$40\n",
      "\n",
      "\n",
      "Latex expression's must have no spaces after '\\$' when entering math mode, and before '\\$' when exiting.\n",
      "Please fix these errors before exporting.\n"
     ]
    }
   ],
   "source": [
    "run_check(\"test.ipynb\")"
   ]
  },
  {
   "cell_type": "code",
   "execution_count": null,
   "id": "0bff6b38-1c2f-45f7-ab42-2b0e4895f1bd",
   "metadata": {},
   "outputs": [],
   "source": []
  }
 ],
 "metadata": {
  "kernelspec": {
   "display_name": "Python 3 (ipykernel)",
   "language": "python",
   "name": "python3"
  },
  "language_info": {
   "codemirror_mode": {
    "name": "ipython",
    "version": 3
   },
   "file_extension": ".py",
   "mimetype": "text/x-python",
   "name": "python",
   "nbconvert_exporter": "python",
   "pygments_lexer": "ipython3",
   "version": "3.11.3"
  }
 },
 "nbformat": 4,
 "nbformat_minor": 5
}
